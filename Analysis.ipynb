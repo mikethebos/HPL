{
 "cells": [
  {
   "cell_type": "code",
   "execution_count": null,
   "id": "a7800bd9-061a-436b-bf96-901df36ef4fd",
   "metadata": {},
   "outputs": [],
   "source": [
    "import pandas as pd\n",
    "import seaborn as sns\n",
    "from matplotlib import pyplot as plt"
   ]
  },
  {
   "cell_type": "code",
   "execution_count": null,
   "id": "8973cf16-4668-4ff5-a1b1-59bb4a06a5ca",
   "metadata": {},
   "outputs": [],
   "source": [
    "header = (\"NUM_N\", \"N\", \"NUM_BLOCKS\", \"BLOCK_SIZE\", \"PROC_MAP\", \"NUM_PxQ\", \"P\", \"Q\", \"THRESH\", \"NUM_PFACT\", \"PFACT\", \"NUM_REC_STOP_CRIT\", \"NBMIN\", \"NUM_REC_PANELS\", \"NDIV\", \"NUM_RPFACT\", \"RPFACT\", \"NUM_BCAST\", \"BCAST\", \"NUM_DEPTH\", \"DEPTH\", \"SWAP\", \"SWAP_THRESH\", \"L1_T\", \"U_T\", \"EQUIL\", \"MEM_ALIGN\", \"SLURM_NNODES\", \"SLURM_NTASKS_PER_NODE\", \"SLURM_CPUS_PER_TASK\", \"GFLOPS\")"
   ]
  },
  {
   "cell_type": "code",
   "execution_count": null,
   "id": "f0fb73d6-7dac-496f-969c-af72576b73a9",
   "metadata": {},
   "outputs": [],
   "source": [
    "dat_hopper = pd.read_csv('hopper/gcc-11/param_sweep/HPL_global_results.csv', names=header)\n",
    "dat_hopper['Cluster'] = 'Hopper'"
   ]
  },
  {
   "cell_type": "code",
   "execution_count": null,
   "id": "ed000dd3-7902-45ff-8410-8e3ae6a74cd4",
   "metadata": {},
   "outputs": [],
   "source": [
    "dat_wheeler = pd.read_csv('wheeler/gcc-11/param_sweep/HPL_global_results.csv', names=header)\n",
    "dat_wheeler['Cluster'] = 'Wheeler'"
   ]
  },
  {
   "cell_type": "code",
   "execution_count": null,
   "id": "de5547b0-cb8b-4f52-bbd9-b282bda0594d",
   "metadata": {},
   "outputs": [],
   "source": [
    "data = pd.concat((dat_hopper, dat_wheeler))\n",
    "data"
   ]
  },
  {
   "cell_type": "code",
   "execution_count": null,
   "id": "9584bf4d-4a89-42d9-b723-30b0e3501b18",
   "metadata": {},
   "outputs": [],
   "source": [
    "data['Process Count'] = data['SLURM_NNODES'] * data['SLURM_NTASKS_PER_NODE'] * data['SLURM_CPUS_PER_TASK']"
   ]
  },
  {
   "cell_type": "code",
   "execution_count": null,
   "id": "f4f184cd-daac-485f-8b9b-5b91297687e2",
   "metadata": {},
   "outputs": [],
   "source": [
    "data[\"Q/P\"] = data[\"Q\"] / data[\"P\"]"
   ]
  },
  {
   "cell_type": "markdown",
   "id": "2605235b-9d73-4e60-add2-032fd90139dc",
   "metadata": {},
   "source": [
    "# Plots"
   ]
  },
  {
   "cell_type": "code",
   "execution_count": null,
   "id": "b41e4dd6-ba16-4719-b5ec-7153cbee614c",
   "metadata": {},
   "outputs": [],
   "source": [
    "sns.lineplot(data, x=\"Process Count\", y=\"GFLOPS\", hue='Cluster')\n",
    "plt.title('Performance vs Process Count')\n",
    "plt.savefig('figures/flops_process_count.svg')"
   ]
  },
  {
   "cell_type": "code",
   "execution_count": null,
   "id": "02575562-3aa4-41a6-b8ca-009fd5fc3578",
   "metadata": {},
   "outputs": [],
   "source": [
    "sns.lineplot(data, x=\"N\", y=\"GFLOPS\", hue='Cluster')\n",
    "plt.title('Performance vs Problem Size')\n",
    "plt.savefig('figures/flops_problem_size.svg')"
   ]
  },
  {
   "cell_type": "code",
   "execution_count": null,
   "id": "5654b0d0-a76f-4c6f-b0d0-68e723437465",
   "metadata": {},
   "outputs": [],
   "source": [
    "sns.lineplot(data, x=\"BLOCK_SIZE\", y=\"GFLOPS\", hue='Cluster')\n",
    "plt.title('Performance vs Block Size')\n",
    "plt.savefig('figures/flops_block_size.svg')"
   ]
  },
  {
   "cell_type": "code",
   "execution_count": null,
   "id": "9afc4dd6-421b-42bd-938a-f8e4202325fd",
   "metadata": {},
   "outputs": [],
   "source": [
    "sns.lineplot(data, x=\"Q/P\", y=\"GFLOPS\", hue='Cluster')\n",
    "plt.title('Performance vs Q/P Ratio')\n",
    "plt.savefig('figures/flops_q_p.svg')"
   ]
  },
  {
   "cell_type": "markdown",
   "id": "b0c957cb-4714-4345-97c2-323a199278e5",
   "metadata": {},
   "source": [
    "# Statistics"
   ]
  },
  {
   "cell_type": "code",
   "execution_count": null,
   "id": "589b2336-2fc5-440c-a8f3-ebb71cb98b6f",
   "metadata": {},
   "outputs": [],
   "source": [
    "# Summary Stats for performance of ALL runs\n",
    "stats_all_runs = data[\"GFLOPS\"].describe(percentiles=[0.25, 0.5, 0.75, 0.9, 0.95, 0.99])\n",
    "stats_all_runs"
   ]
  },
  {
   "cell_type": "code",
   "execution_count": null,
   "id": "2dd4a9d0-f598-47a5-aee2-9478af437b5c",
   "metadata": {},
   "outputs": [],
   "source": [
    "# Summary stats for Hopper\n",
    "stats_hopper = data[data['Cluster'] == 'Hopper'][\"GFLOPS\"].describe(percentiles=[0.25, 0.5, 0.75, 0.9, 0.95, 0.99])\n",
    "stats_hopper"
   ]
  },
  {
   "cell_type": "code",
   "execution_count": null,
   "id": "90ee146f-e097-419a-a6bf-2ba3316c55cd",
   "metadata": {},
   "outputs": [],
   "source": [
    "# Summary stats for Wheeler\n",
    "stats_wheeler = data[data['Cluster'] == 'Wheeler'][\"GFLOPS\"].describe(percentiles=[0.25, 0.5, 0.75, 0.9, 0.95, 0.99])\n",
    "stats_wheeler"
   ]
  },
  {
   "cell_type": "code",
   "execution_count": null,
   "id": "681df997-3c9e-4aa6-92bb-94bbd7ec3bba",
   "metadata": {},
   "outputs": [],
   "source": [
    "# latex\n",
    "print(pd.concat([stats_all_runs, stats_hopper, stats_wheeler], axis=1).round(0).astype(int).to_latex())"
   ]
  },
  {
   "cell_type": "code",
   "execution_count": null,
   "id": "b9ee5c0d",
   "metadata": {},
   "outputs": [],
   "source": []
  }
 ],
 "metadata": {
  "kernelspec": {
   "display_name": "Python 3 (ipykernel)",
   "language": "python",
   "name": "python3"
  },
  "language_info": {
   "codemirror_mode": {
    "name": "ipython",
    "version": 3
   },
   "file_extension": ".py",
   "mimetype": "text/x-python",
   "name": "python",
   "nbconvert_exporter": "python",
   "pygments_lexer": "ipython3",
   "version": "3.11.8"
  }
 },
 "nbformat": 4,
 "nbformat_minor": 5
}
